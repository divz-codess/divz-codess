{
  "nbformat": 4,
  "nbformat_minor": 0,
  "metadata": {
    "colab": {
      "provenance": [],
      "authorship_tag": "ABX9TyOSVi2OvchYTLq/hRnhZorD",
      "include_colab_link": true
    },
    "kernelspec": {
      "name": "python3",
      "display_name": "Python 3"
    },
    "language_info": {
      "name": "python"
    }
  },
  "cells": [
    {
      "cell_type": "markdown",
      "metadata": {
        "id": "view-in-github",
        "colab_type": "text"
      },
      "source": [
        "<a href=\"https://colab.research.google.com/github/divz-codess/divz-codess/blob/main/NNprogassignDivyangiRaghav.ipynb\" target=\"_parent\"><img src=\"https://colab.research.google.com/assets/colab-badge.svg\" alt=\"Open In Colab\"/></a>"
      ]
    },
    {
      "cell_type": "markdown",
      "source": [
        "Question 1: If x = [2,3] , b =4 and w = [0,1] write the program to find the following:\n",
        "> 1.   Neuron\n"
      ],
      "metadata": {
        "id": "ntAKFDZPwr0P"
      }
    },
    {
      "cell_type": "code",
      "execution_count": 2,
      "metadata": {
        "id": "x8xAYiMKfo-G"
      },
      "outputs": [],
      "source": [
        "import numpy as np"
      ]
    },
    {
      "cell_type": "code",
      "source": [
        "# Define the inputs\n",
        "x = np.array([2, 3])\n",
        "w = np.array([0, 1])\n",
        "b = 4\n",
        "\n",
        "# Calculate the neuron activation\n",
        "neuron = np.dot(w, x) + b\n",
        "\n",
        "print(\"Neuron Output:\", neuron)\n"
      ],
      "metadata": {
        "colab": {
          "base_uri": "https://localhost:8080/",
          "height": 0
        },
        "id": "l2j5ie2tje9e",
        "outputId": "106e5ffc-6cdd-494e-9a63-4148139732ff"
      },
      "execution_count": 19,
      "outputs": [
        {
          "output_type": "stream",
          "name": "stdout",
          "text": [
            "Neuron Output: 7\n"
          ]
        }
      ]
    },
    {
      "cell_type": "markdown",
      "source": [
        ">2.   Combining Neuron into Neural Network"
      ],
      "metadata": {
        "id": "TP5YYJ2hxNdg"
      }
    },
    {
      "cell_type": "code",
      "source": [
        "import numpy as np\n",
        "\n",
        "# Define the inputs\n",
        "x = np.array([2, 3])\n",
        "\n",
        "# Define the weights and biases for the neuron\n",
        "w = np.array([0, 1])\n",
        "b = 4\n",
        "\n",
        "# Define the activation function for the neuron\n",
        "def linear_activation(x):\n",
        "    return x\n",
        "\n",
        "# Define the weights and biases for the neural network\n",
        "w1 = np.array([w])\n",
        "b1 = np.array([b])\n",
        "w2 = np.array([[1]])  # output layer weights\n",
        "b2 = np.array([0])  # output layer bias\n",
        "\n",
        "# Define the activation function for the output layer\n",
        "def output_activation(x):\n",
        "    return x\n",
        "\n",
        "# Calculate the activations of the input layer\n",
        "a0 = x\n",
        "\n",
        "# Calculate the activations of the hidden layer\n",
        "z1 = np.dot(a0, w1.T) + b1\n",
        "a1 = linear_activation(z1)\n",
        "\n",
        "# Calculate the output of the neural network\n",
        "z2 = np.dot(a1, w2.T) + b2\n",
        "y = output_activation(z2)\n",
        "\n",
        "print(\"Neural Network Output:\", y)\n"
      ],
      "metadata": {
        "colab": {
          "base_uri": "https://localhost:8080/",
          "height": 0
        },
        "id": "W_j4LCRajxwQ",
        "outputId": "b63c6e0c-51d9-4403-aedf-04f1a1174529"
      },
      "execution_count": 20,
      "outputs": [
        {
          "output_type": "stream",
          "name": "stdout",
          "text": [
            "Neural Network Output: [7]\n"
          ]
        }
      ]
    },
    {
      "cell_type": "markdown",
      "source": [
        "It is to be noted that the output is the same as the output of the single neuron in the previous example, since we are just wrapping the neuron in a neural network with one input and one output. This program can further be easily extended to include more layers and more complex activation functions."
      ],
      "metadata": {
        "id": "yqJxSIozj6GZ"
      }
    },
    {
      "cell_type": "markdown",
      "source": [
        "Question 2: Below is the Neural Network given. After looking to it execute the Feedforward Process:\n",
        ">![Screenshot (382).png](data:image/png;base64,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)"
      ],
      "metadata": {
        "id": "lDzjlEQBxidf"
      }
    },
    {
      "cell_type": "code",
      "source": [
        "import numpy as np\n",
        "\n",
        "# Define the input layer\n",
        "x = np.array([2, 3])\n",
        "\n",
        "# Define the weights and biases for the hidden layers and the output layer\n",
        "w1 = np.array([[0.1, 0.4], [0.2, 0.5]])\n",
        "b1 = np.array([0.3, 0.4])\n",
        "w2 = np.array([[0.2], [0.1]])\n",
        "b2 = np.array([0.5])\n",
        "\n",
        "# Compute the activations for the first hidden layer\n",
        "a1 = np.dot(x, w1) + b1\n",
        "z1 = 1 / (1 + np.exp(-a1))  # Sigmoid activation function\n",
        "\n",
        "# Compute the activations for the second hidden layer\n",
        "a2 = np.dot(z1, w2) + b2\n",
        "z2 = 1 / (1 + np.exp(-a2))  # Sigmoid activation function\n",
        "\n",
        "# Print the output of the network\n",
        "print(\"Output:\", z2)\n"
      ],
      "metadata": {
        "colab": {
          "base_uri": "https://localhost:8080/",
          "height": 0
        },
        "id": "AKr5yu8nm9lO",
        "outputId": "276afda2-600b-4e20-f72b-90def41a9f67"
      },
      "execution_count": 26,
      "outputs": [
        {
          "output_type": "stream",
          "name": "stdout",
          "text": [
            "Output: [0.67781636]\n"
          ]
        }
      ]
    },
    {
      "cell_type": "markdown",
      "source": [
        "Question 3: Implement the following activation functions:\n",
        "\n",
        "> 1.   ReLu\n",
        "\n"
      ],
      "metadata": {
        "id": "KKbJmyCcyIwO"
      }
    },
    {
      "cell_type": "code",
      "source": [
        "def relu(x):\n",
        "    \"\"\"\n",
        "    ReLU activation function\n",
        "    \"\"\"\n",
        "    return np.maximum(0, x)"
      ],
      "metadata": {
        "id": "aK4AJD6tf1-0"
      },
      "execution_count": 7,
      "outputs": []
    },
    {
      "cell_type": "code",
      "source": [
        "x = 4\n",
        "output = relu(x)\n",
        "print(output) # Output: 4\n",
        "\n",
        "x = -7\n",
        "output = relu(x)\n",
        "print(output) # Output: 0"
      ],
      "metadata": {
        "colab": {
          "base_uri": "https://localhost:8080/",
          "height": 0
        },
        "id": "pPtqRQEdgBHa",
        "outputId": "4cb4d325-c968-460d-d7e3-7202cde94c78"
      },
      "execution_count": 8,
      "outputs": [
        {
          "output_type": "stream",
          "name": "stdout",
          "text": [
            "4\n",
            "0\n"
          ]
        }
      ]
    },
    {
      "cell_type": "markdown",
      "source": [
        "\n",
        "\n",
        "> 2.   Leaky ReLu\n",
        "\n"
      ],
      "metadata": {
        "id": "_MLmlKFryZ4i"
      }
    },
    {
      "cell_type": "code",
      "source": [
        "def leaky_relu(x, alpha=0.1):\n",
        "    \"\"\"\n",
        "    Leaky ReLU activation function.\n",
        "    \"\"\"\n",
        "    return max(alpha*x, x)\n",
        "\n",
        "# Test the function with a sample input\n",
        "x = 8\n",
        "output = leaky_relu(x)\n",
        "print(output)  # Output: -8"
      ],
      "metadata": {
        "colab": {
          "base_uri": "https://localhost:8080/",
          "height": 0
        },
        "id": "kgd3OihjhIxd",
        "outputId": "c9d863d3-76b6-41b3-d6c0-7df8c64c9a8a"
      },
      "execution_count": 12,
      "outputs": [
        {
          "output_type": "stream",
          "name": "stdout",
          "text": [
            "8\n"
          ]
        }
      ]
    },
    {
      "cell_type": "markdown",
      "source": [
        "Question 4: Below is the image. Observe the model and define through Boltzmann Learning in terms of code:\n",
        "\n",
        "\n",
        "> ![Screenshot (383).png](data:image/png;base64,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)\n",
        "\n"
      ],
      "metadata": {
        "id": "08jdN_bjyvKO"
      }
    },
    {
      "cell_type": "code",
      "source": [
        "import tensorflow as tf\n",
        "\n",
        "class RBM(object):\n",
        "    def __init__(self, visible_dim, hidden_dim, learning_rate, number_of_iterations):\n",
        "        \n",
        "        self.graph = tf.Graph()\n",
        "        \n",
        "        #Initialize graph\n",
        "        with self.graph.as_default():\n",
        "            \n",
        "            self.num_iter = number_of_iterations\n",
        "            self.visi_biases = tf.Variable(tf.random_uniform([1, visible_dim], 0, 1, name=\"visi_biases\"))\n",
        "            self.hidd_biases = tf.Variable(tf.random_uniform([1, hidden_dim], 0, 1, name=\"hidd_biases\"))\n",
        "            self.hidd_states = tf.Variable(tf.zeros([1, hidden_dim], tf.float32, name=\"hidd_states\"))\n",
        "            self.visi_cdstat = tf.Variable(tf.zeros([1, visible_dim], tf.float32, name=\"visi_cdstat\"))\n",
        "            self.hidd_cdstat = tf.Variable(tf.zeros([1, hidden_dim], tf.float32, name=\"hidd_cdstat\"))\n",
        "            self.weights = tf.Variable(tf.random_normal([visible_dim, hidden_dim], 0.01), name=\"weights\")\n",
        "            self.learning_rate = tf.Variable(tf.fill([visible_dim, hidden_dim], learning_rate), name=\"learning_rate\")\n",
        "            \n",
        "            self.input_sample = tf.placeholder(tf.float32, [visible_dim], name=\"input_sample\")\n",
        "            \n",
        "            # Gibbs Sampling\n",
        "            input_matrix = tf.transpose(tf.stack([self.input_sample for i in range(hidden_dim)]))\n",
        "            hidden_probabilities = tf.sigmoid(tf.add(tf.multiply(input_matrix, self.weights), tf.stack([self.hidd_biases[0] for i in range(visible_dim)])))\n",
        "            self.hidd_states = self.callculate_state(hidden_probabilities)\n",
        "            visible_probabilities = tf.sigmoid(tf.add(tf.multiply(self.hidd_states, self.weights), tf.transpose(tf.stack([self.visi_biases[0] for i in range(hidden_dim)]))))\n",
        "            self.visi_cdstat = self.callculate_state(visible_probabilities)\n",
        "            self.hidd_cdstat = self.callculate_state(tf.sigmoid(tf.multiply(self.visi_cdstat, self.weights) + self.hidd_biases))\n",
        "            \n",
        "            #Contrastive Divergence\n",
        "            positive_gradient_matrix = tf.multiply(input_matrix, self.hidd_states)\n",
        "            negative_gradient_matrix = tf.multiply(self.visi_cdstat, self.hidd_cdstat)\n",
        "            \n",
        "            new_weights = self.weights\n",
        "            new_weights.assign_add(tf.multiply(positive_gradient_matrix, self.learning_rate))\n",
        "            new_weights.assign_sub(tf.multiply(negative_gradient_matrix, self.learning_rate))\n",
        "\n",
        "            self.training = tf.assign(self.weights, new_weights) \n",
        "            \n",
        "            #Initilize session and run it\n",
        "            self.sess = tf.Session()\n",
        "            initialization = tf.global_variables_initializer()\n",
        "            self.sess.run(initialization)\n",
        "        \n",
        "    def train(self, input_vects):\n",
        "        for iter_no in range(self.num_iter):\n",
        "            for input_vect in input_vects:\n",
        "                self.sess.run(self.training,\n",
        "                               feed_dict={self.input_sample: input_vect})\n",
        "    \n",
        "    def callculate_state(self, probability):\n",
        "        return tf.floor(probability + tf.random_uniform(tf.shape(probability), 0, 1))\n"
      ],
      "metadata": {
        "id": "PpkZaYvlwPxg"
      },
      "execution_count": 30,
      "outputs": []
    },
    {
      "cell_type": "markdown",
      "source": [
        "Question 5: Below is the set of documents. Implement the vectorization techniques studied in class:\n",
        "> sents = ['coronavirus is a highly infectious disease',\n",
        "\n",
        "> 'coronavirus affects older people the most',\n",
        "\n",
        "> 'older people are at high risk due to this disease']"
      ],
      "metadata": {
        "id": "PHZvBLWIzvVD"
      }
    },
    {
      "cell_type": "code",
      "source": [
        "from sklearn.feature_extraction.text import TfidfVectorizer\n",
        "\n",
        "# Define the set of documents\n",
        "sents = ['coronavirus is a highly infectious disease',\n",
        "         'coronavirus affects older people the most',\n",
        "         'older people are at high risk due to this disease']\n",
        "\n",
        "# Initialize the TF-IDF vectorizer\n",
        "tfidf = TfidfVectorizer()\n",
        "\n",
        "# Fit the vectorizer to the documents and transform the documents to their TF-IDF vectors\n",
        "tfidf_vectors = tfidf.fit_transform(sents)\n",
        "\n",
        "# Print the vocabulary and the TF-IDF vectors for the documents\n",
        "print(\"Vocabulary:\", tfidf.vocabulary_)\n",
        "for i in range(len(sents)):\n",
        "    print(\"TF-IDF vector for sentence\", i+1, \":\", tfidf_vectors[i].toarray())\n"
      ],
      "metadata": {
        "colab": {
          "base_uri": "https://localhost:8080/",
          "height": 0
        },
        "id": "RdUiycbLk5CX",
        "outputId": "87f94505-2c02-40d6-e864-6f6e7ce9052f"
      },
      "execution_count": 23,
      "outputs": [
        {
          "output_type": "stream",
          "name": "stdout",
          "text": [
            "Vocabulary: {'coronavirus': 3, 'is': 9, 'highly': 7, 'infectious': 8, 'disease': 4, 'affects': 0, 'older': 11, 'people': 12, 'the': 14, 'most': 10, 'are': 1, 'at': 2, 'high': 6, 'risk': 13, 'due': 5, 'to': 16, 'this': 15}\n",
            "TF-IDF vector for sentence 1 : [[0.         0.         0.         0.37302199 0.37302199 0.\n",
            "  0.         0.49047908 0.49047908 0.49047908 0.         0.\n",
            "  0.         0.         0.         0.         0.        ]]\n",
            "TF-IDF vector for sentence 2 : [[0.45954803 0.         0.         0.34949812 0.         0.\n",
            "  0.         0.         0.         0.         0.45954803 0.34949812\n",
            "  0.34949812 0.         0.45954803 0.         0.        ]]\n",
            "TF-IDF vector for sentence 3 : [[0.         0.338348   0.338348   0.         0.25732238 0.338348\n",
            "  0.338348   0.         0.         0.         0.         0.25732238\n",
            "  0.25732238 0.338348   0.         0.338348   0.338348  ]]\n"
          ]
        }
      ]
    }
  ]
}